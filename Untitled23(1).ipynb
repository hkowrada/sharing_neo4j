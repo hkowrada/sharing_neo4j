{
 "cells": [
  {
   "cell_type": "markdown",
   "metadata": {},
   "source": [
    "Importing Airport data"
   ]
  },
  {
   "cell_type": "code",
   "execution_count": null,
   "metadata": {},
   "outputs": [],
   "source": [
    "WITH \"https://aviation-edge.com/v2/public/airportDatabase?key=3abaa5-51c412\" AS ap\n",
    "CALL apoc.load.json(ap) YIELD value \n",
    "MERGE(a:AIRPORT {a_id:value.airportId}) ON CREATE\n",
    "SET a.latitude= toFloat(value.latitudeAirport), a.longitude= toFloat(value.longitudeAirport), a.names= value.codeIataAirport, a.country= value.nameCountry, a.name= value.nameAirport, a.codeCountry = value.codeIso2Country\n",
    "MERGE (co:Country_Name {Name: a.country})\n",
    "MERGE (vi:Code_Airport {Name: a.names})\n",
    "MERGE (la:Latitude_Airport {Number: a.latitude})\n",
    "MERGE (lo:Longitude_Airport {Number: a.longitude})\n",
    "CREATE (vi)-[:IN]->(co)\n",
    "CREATE (la)-[:LAT]->(vi)\n",
    "CREATE (lo)-[:LONG]->(vi)"
   ]
  },
  {
   "cell_type": "markdown",
   "metadata": {},
   "source": [
    "Importing Flights data"
   ]
  },
  {
   "cell_type": "code",
   "execution_count": null,
   "metadata": {},
   "outputs": [],
   "source": [
    "CREATE CONSTRAINT node_plane ON (f:FLIGHTS) ASSERT (f.Name) IS NODE KEY\n",
    "\n",
    "WITH \"https://aviation-edge.com/v2/public/flights?key=3abaa5-51c412\" AS vol\n",
    "CALL apoc.load.json(vol) YIELD value \n",
    "UNWIND value.airline AS cie \n",
    "UNWIND value.aircraft AS plane\n",
    "UNWIND value.geography  AS geo\n",
    "UNWIND value.speed AS speeds\n",
    "UNWIND value.arrival AS arrival\n",
    "UNWIND value.departure AS departure\n",
    "MERGE(f:FLIGHTS {f_id:plane.regNumber}) ON CREATE\n",
    "SET f.Name= plane.regNumber, f.Status= value.status, f.Company_Code= cie.icaoCode, f.Latitude= toFloat(geo.latitude), f.Longitude= toFLoat(geo.longitude), f.Speed = toFloat(speeds.horizontal), f.Arrival = arrival.iataCode, f.Departure = departure.iataCode\n",
    "FOREACH(uselessVar IN CASE WHEN trim(f.Name) <> \"\" THEN [1] ELSE [] END | \n",
    "MERGE (pc:Plane {Code: f.Name})\n",
    "MERGE (la:Latitude_Plane {Number: f.Latitude})\n",
    "MERGE (lo:Longitude_Plane {Number: f.Longitude})\n",
    "MERGE (sp:Plane_Speed {Code: f.Speed})\n",
    "MERGE (st:Plane_Status {Status: f.Status})\n",
    "MERGE (cy:Plane_Company {Name: f.Company_Code})\n",
    "MERGE (ar:Arrivals {Code: f.Arrival})\n",
    "MERGE (de:Departures {Code: f.Departure})\n",
    "CREATE (la)-[:LAT]->(pc)\n",
    "CREATE (lo)-[:LONG]->(pc)\n",
    "CREATE (sp)-[:SPEED]->(pc)\n",
    "CREATE (pc)-[:STATUS]->(st)\n",
    "CREATE (pc)-[:BELONGS_TO]->(cy)\n",
    "CREATE (de)-[:MOVE_TO]->(ar))"
   ]
  },
  {
   "cell_type": "code",
   "execution_count": null,
   "metadata": {},
   "outputs": [],
   "source": [
    "Importing Airlines data"
   ]
  },
  {
   "cell_type": "code",
   "execution_count": null,
   "metadata": {},
   "outputs": [],
   "source": [
    "WITH 'https://aviation-edge.com/v2/public/airlineDatabase?key=3abaa5-51c412' AS airline\n",
    "CALL apoc.load.json(airline) YIELD value\n",
    "MERGE (a:AIRLINES {a_id: value.airlineId}) ON CREATE\n",
    "SET a.Name= value.nameAirline, a.Code= value.codeIcaoAirline, a.Status= value.statusAirline, a.CodeCountry= value.codeIso2Country\n",
    "MERGE (na: Airline_Name {Name: a.Name})\n",
    "MERGE (co: Airline_Code {Code: a.Code})\n",
    "CREATE (co)-[:IS]->(na)\n"
   ]
  },
  {
   "cell_type": "code",
   "execution_count": null,
   "metadata": {},
   "outputs": [],
   "source": [
    "#CREATE RELATIONS BETWEEN FLIGHTS AND AIRPORTS\n",
    "#CREATE COUNTRIES AND RELATION COUNTRIES AIRLINES\n"
   ]
  },
  {
   "cell_type": "code",
   "execution_count": null,
   "metadata": {},
   "outputs": [],
   "source": [
    "WITH 'https://aviation-edge.com/v2/public/countryDatabase?key=3abaa5-51c412' AS country\n",
    "CALL apoc.load.json(country) YIELD value\n",
    "MERGE (c:COUNTRIES {c_id: value.countryId}) ON CREATE\n",
    "SET c.Currency_Code = value.codeCurrency, c.Currency= value.nameCurrency, c.Code= value.codeIso2Country, c.Name= value.nameCountry\n",
    "MERGE (na: Country_Name {Name: c.Name})\n",
    "MERGE (cu: Currency {Code: c.Currency_Code})\n",
    "CREATE (na)-[:PAY_WITH]->(cu)"
   ]
  },
  {
   "cell_type": "code",
   "execution_count": null,
   "metadata": {},
   "outputs": [],
   "source": []
  },
  {
   "cell_type": "markdown",
   "metadata": {},
   "source": [
    "1. Top 5 companies with most airplanes in the air at the moment"
   ]
  },
  {
   "cell_type": "code",
   "execution_count": null,
   "metadata": {},
   "outputs": [],
   "source": [
    "MATCH (q:FLIGHTS)\n",
    "WHERE q.Status = 'en-route' AND NOT q.Company_Code = \"\"\n",
    "RETURN count(q.Status) AS Total, q.Company_Code AS Company ORDER BY Total DESC LIMIT 5"
   ]
  },
  {
   "cell_type": "markdown",
   "metadata": {},
   "source": [
    "If you want to know to what companies belong the codes : "
   ]
  },
  {
   "cell_type": "code",
   "execution_count": null,
   "metadata": {},
   "outputs": [],
   "source": [
    "MATCH (a1:Plane_Company), (a2:Airline_Code)\n",
    "WHERE a1.Name = a2.Code\n",
    "CREATE (a1)-[:SAME]->(a2)"
   ]
  },
  {
   "cell_type": "markdown",
   "metadata": {},
   "source": [
    "2. How many flights are there with one stop from a given origin to a given destination?"
   ]
  },
  {
   "cell_type": "code",
   "execution_count": null,
   "metadata": {},
   "outputs": [],
   "source": [
    "#more arrival\n",
    "MATCH (f:FLIGHTS), (a:AIRPORT)\n",
    "WHERE f.Arrival = a.names\n",
    "RETURN a.name,  count(f.Arrival)  AS Total ORDER BY Total DESC LIMIT 5"
   ]
  },
  {
   "cell_type": "code",
   "execution_count": null,
   "metadata": {},
   "outputs": [],
   "source": [
    "#more departure\n",
    "MATCH (f:FLIGHTS), (a:AIRPORT)\n",
    "WHERE f.Departure = a.names\n",
    "RETURN a.name,  count(f.Departure)  AS Total ORDER BY Total DESC LIMIT 5"
   ]
  },
  {
   "cell_type": "code",
   "execution_count": null,
   "metadata": {},
   "outputs": [],
   "source": [
    "#more trafic \n",
    "MATCH (f:FLIGHTS), (a:AIRPORT)\n",
    "WHERE f.Departure = a.names OR  f.Arrival = a.names\n",
    "RETURN a.name,  (count(f.Departure)+count(f.Arrival))/2  AS Total ORDER BY Total DESC LIMIT 5"
   ]
  },
  {
   "cell_type": "code",
   "execution_count": null,
   "metadata": {},
   "outputs": [],
   "source": [
    "#more departure per country\n",
    "MATCH (f:FLIGHTS), (a:AIRPORT), (c:COUNTRIES)\n",
    "WHERE f.Departure = a.names  AND a.codeCountry = c.Code\n",
    "RETURN c.Name, count(f.Departure) AS Total ORDER BY Total DESC LIMIT 5"
   ]
  },
  {
   "cell_type": "code",
   "execution_count": null,
   "metadata": {},
   "outputs": [],
   "source": [
    "#more arrival per country\n",
    "MATCH (f:FLIGHTS), (a:AIRPORT), (c:COUNTRIES)\n",
    "WHERE f.Arrival = a.names  AND a.codeCountry = c.Code\n",
    "RETURN c.Name, count(f.Arrival) AS Total ORDER BY Total DESC LIMIT 5"
   ]
  },
  {
   "cell_type": "code",
   "execution_count": null,
   "metadata": {},
   "outputs": [],
   "source": []
  },
  {
   "cell_type": "code",
   "execution_count": null,
   "metadata": {},
   "outputs": [],
   "source": []
  },
  {
   "cell_type": "markdown",
   "metadata": {},
   "source": [
    "4. which are the 3 Countries with Most Airlines from our given/available dataset."
   ]
  },
  {
   "cell_type": "code",
   "execution_count": null,
   "metadata": {},
   "outputs": [],
   "source": [
    "MATCH (country:Country )<-[:BELONGS_TO]-(airline:Airline) \n",
    "WITH country,count(DISTINCT airline) AS airline_count ORDER BY airline_count DESC \n",
    "RETURN country.countryName,airline_count LIMIT 3"
   ]
  },
  {
   "cell_type": "code",
   "execution_count": null,
   "metadata": {},
   "outputs": [],
   "source": [
    "#Maybe do it with a relation\n",
    "MATCH (c:COUNTRIES), (a:AIRLINES)\n",
    "WHERE c.Code = a.CodeCountry AND a.Status = 'active'\n",
    "RETURN c.Name, count(a.Code) AS NumberOfAirlines ORDER BY NumberOfAirlines DESC LIMIT 10"
   ]
  },
  {
   "cell_type": "markdown",
   "metadata": {},
   "source": [
    "5. Top 2 Airlines with Most Flights."
   ]
  },
  {
   "cell_type": "code",
   "execution_count": null,
   "metadata": {},
   "outputs": [],
   "source": [
    "#a lot of airline code are missing\n",
    "MATCH (airline:Airline)<-[r]-(f:Flight) \n",
    "WITH airline, count(r) AS flight_count ORDER BY flight_count DESC \n",
    "RETURN airline.airlineName, flight_count LIMIT 2"
   ]
  },
  {
   "cell_type": "markdown",
   "metadata": {},
   "source": [
    "6. Number of flights today"
   ]
  },
  {
   "cell_type": "code",
   "execution_count": null,
   "metadata": {},
   "outputs": [],
   "source": [
    "# We dont have the timetable\n",
    "MATCH (nbrFToday :flights) WHERE arrival__actualTime <> null \n",
    "RETURN count (nbrFToday) "
   ]
  },
  {
   "cell_type": "markdown",
   "metadata": {},
   "source": [
    "7. what are number of flight redictered for each airlines"
   ]
  },
  {
   "cell_type": "code",
   "execution_count": null,
   "metadata": {},
   "outputs": [],
   "source": [
    "#We dont have redirected flights\n",
    "MATCH (nbrFR :nbrFToday) <- [rd : redictered] - (al : airline_name)\n",
    "WHERE statut = redirected && type = departure\n",
    "count (:nbrFR) AS flights_redirected  ORDER BY ASC \n",
    "RETURN al.airline_name , flights_redirected "
   ]
  },
  {
   "cell_type": "markdown",
   "metadata": {},
   "source": [
    "8. what are number of flight scheduled for each airlines"
   ]
  },
  {
   "cell_type": "code",
   "execution_count": null,
   "metadata": {},
   "outputs": [],
   "source": [
    "#We dont have the schedule time\n",
    "MATCH (nbrFS :nbrFToday) <- [rd : Scheduled] - (al : airline_name)\n",
    "WHERE statut = scheduled && type = departure\n",
    "count (:nbrFS) AS flights_scheduled  ORDER BY ASC \n",
    "RETURN al.airline_name , flights_scheduled "
   ]
  },
  {
   "cell_type": "markdown",
   "metadata": {},
   "source": [
    "9. what are number of flight landed for each airlines"
   ]
  },
  {
   "cell_type": "code",
   "execution_count": null,
   "metadata": {},
   "outputs": [],
   "source": [
    "#a lot of airline code are missing\n",
    "MATCH (nbrFL :nbrFToday) <- [rd : Landed] - (al : airline_name)\n",
    "WHERE statut = landed && type = departure\n",
    "count (:nbrFL) AS flights_landed  ORDER BY ASC \n",
    "RETURN al.airline_name , flights_landed "
   ]
  },
  {
   "cell_type": "markdown",
   "metadata": {},
   "source": [
    "10. Number of airport which currency is euro , and what are their country?"
   ]
  },
  {
   "cell_type": "code",
   "execution_count": null,
   "metadata": {},
   "outputs": [],
   "source": [
    "\n",
    "MATCH (airp: nameAirport) WHERE nameCurrency = Euro \n",
    "RETURN count airp.nameAirport AS NbrAirportCurEuro "
   ]
  },
  {
   "cell_type": "code",
   "execution_count": null,
   "metadata": {},
   "outputs": [],
   "source": [
    "#This works\n",
    "MATCH (a:AIRPORT), (c:COUNTRIES)\n",
    "WHERE a.codeCountry = c.Code\n",
    "RETURN c.Currency_Code AS Currency, count(a.name) AS NumberOfAirports ORDER BY NumberOfAirports DESC LIMIT 5"
   ]
  },
  {
   "cell_type": "markdown",
   "metadata": {},
   "source": [
    "11. we want to see which owner has most of active airplanes:"
   ]
  },
  {
   "cell_type": "code",
   "execution_count": null,
   "metadata": {},
   "outputs": [],
   "source": [
    "#Done by countries\n",
    "MATCH (owner : planeOwner) \n",
    "count (owner) WHERE statut = active \n",
    "RETURN owner.planeOwner ORDER BY DESC LIMIT 1 "
   ]
  },
  {
   "cell_type": "markdown",
   "metadata": {},
   "source": [
    "12. Number of flight which duration >4h"
   ]
  },
  {
   "cell_type": "code",
   "execution_count": null,
   "metadata": {},
   "outputs": [],
   "source": [
    "#NO timetable\n",
    "MATCH (d : duration of flight) \n",
    "WHERE arrival_scheduledTime - departure_scheduledTime > 4\n",
    "count (nbrF : LongestFlight) "
   ]
  },
  {
   "cell_type": "markdown",
   "metadata": {},
   "source": [
    "13. Planes on air flying closeby a chosen airport"
   ]
  },
  {
   "cell_type": "code",
   "execution_count": null,
   "metadata": {},
   "outputs": [],
   "source": [
    "MATCH (f:FLIGHTS), (a:AIRPORT)\n",
    "WITH a.latitude AS lata, a.longitude AS longa, f.Longitude AS longf,f.Latitude AS latf, f.Status AS Status, f.Name AS numb\n",
    "WHERE a.names = 'AAC' AND Status = 'en-route'\n",
    "WITH point( {longitude:longf,latitude: latf} ) AS point1, point( {longitude:longa,latitude: lata} ) AS point2, numb AS numb\n",
    "RETURN numb AS Plane_Reference, round(distance(point1,point2)/1000) AS Distance_kilometers ORDER BY Distance_kilometers  ASC LIMIT 5"
   ]
  },
  {
   "cell_type": "code",
   "execution_count": null,
   "metadata": {},
   "outputs": [],
   "source": [
    "#fill the a.names with a code from a chosen airport"
   ]
  },
  {
   "cell_type": "markdown",
   "metadata": {},
   "source": [
    "14. Airport with temperature, pressure and wind"
   ]
  },
  {
   "cell_type": "code",
   "execution_count": null,
   "metadata": {},
   "outputs": [],
   "source": [
    "WITH \"https://api.openweathermap.org/data/2.5/weather?lat=latitude&lon=longitude&appid=5842eebcfff240981095a321de43a2fa\" AS meteo, '-50' AS lat_input\n",
    "WITH apoc.text.replace(meteo,'latitude',lat_input) AS meteo2, '20' AS long_input\n",
    "WITH apoc.text.replace(meteo2,'longitude',long_input) AS meteo3\n",
    "CALL apoc.load.json(meteo3) YIELD value\n",
    "UNWIND value.main AS attribute\n",
    "UNWIND value.wind AS attribute2\n",
    "RETURN attribute.temp AS Temperature, attribute2.speed AS Speed, attribute.pressure AS Pressure"
   ]
  },
  {
   "cell_type": "code",
   "execution_count": null,
   "metadata": {},
   "outputs": [],
   "source": [
    "#fill with long and lat airport"
   ]
  }
 ],
 "metadata": {
  "kernelspec": {
   "display_name": "Python 3",
   "language": "python",
   "name": "python3"
  },
  "language_info": {
   "codemirror_mode": {
    "name": "ipython",
    "version": 3
   },
   "file_extension": ".py",
   "mimetype": "text/x-python",
   "name": "python",
   "nbconvert_exporter": "python",
   "pygments_lexer": "ipython3",
   "version": "3.7.0"
  },
  "toc": {
   "base_numbering": 1,
   "nav_menu": {},
   "number_sections": true,
   "sideBar": true,
   "skip_h1_title": false,
   "title_cell": "Table of Contents",
   "title_sidebar": "Contents",
   "toc_cell": false,
   "toc_position": {},
   "toc_section_display": true,
   "toc_window_display": false
  }
 },
 "nbformat": 4,
 "nbformat_minor": 4
}
